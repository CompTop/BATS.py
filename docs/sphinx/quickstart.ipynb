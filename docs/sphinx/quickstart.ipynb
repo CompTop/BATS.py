{
 "cells": [
  {
   "cell_type": "markdown",
   "metadata": {},
   "source": [
    "# Quickstart Guide\n",
    "\n",
    "Once you have [successfully installed](installation.html) `bats`, you can follow this guide to help you get started.  You can download this guide as a Jupyter notebook [here](_sources/quickstart.ipynb).\n",
    "\n",
    "You can find additional information and examples in the [tutorials](tutorials/index.html) and [examples](examples/index.html), and ultimately the [API reference](api.html).\n",
    "\n",
    "First, import `bats`:"
   ]
  },
  {
   "cell_type": "code",
   "execution_count": 1,
   "metadata": {},
   "outputs": [],
   "source": [
    "import bats"
   ]
  },
  {
   "cell_type": "markdown",
   "metadata": {},
   "source": [
    "## Simplicial Complexes and Homology\n",
    "\n",
    "BATS offers two implementations of simplicial complexes: `SimplicialComplex` and `LightSimplicialComplex`.  While the internal representations differ, they both have the same interface which can be used.\n",
    "\n",
    "<div class=\"alert alert-warning\">\n",
    "\n",
    "Simplices in bats should generally be assumed to be *ordered*, meaning that\n",
    "    `[0,1,2]` is not the same as `[1,2,0]`.  If you want to use\n",
    "    *unordered* simplices, you can either add vertices in sorted order, or use\n",
    "    a sorting algorithm before adding simplices to complexes.\n",
    "\n",
    "</div>\n",
    "\n",
    "The `add` method will add simplices, assuming that all faces have previously been added.  The `add_recursive` method will recursively add faces as needed.\n"
   ]
  },
  {
   "cell_type": "code",
   "execution_count": 7,
   "metadata": {},
   "outputs": [
    {
     "data": {
      "text/plain": [
       "[[0], [1], [2], [3], [0, 1], [0, 2], [1, 2], [2, 3], [1, 3], [0, 1, 2]]"
      ]
     },
     "execution_count": 7,
     "metadata": {},
     "output_type": "execute_result"
    }
   ],
   "source": [
    "X = bats.SimplicialComplex()\n",
    "X.add_recursive([0,1,2])\n",
    "X.add_recursive([2,3])\n",
    "X.add([1,3])\n",
    "\n",
    "X.get_simplices()"
   ]
  },
  {
   "cell_type": "markdown",
   "metadata": {},
   "source": [
    "Now let's compute homology"
   ]
  },
  {
   "cell_type": "code",
   "execution_count": 15,
   "metadata": {},
   "outputs": [
    {
     "name": "stdout",
     "output_type": "stream",
     "text": [
      "dim H_0: 1\n",
      "dim H_1: 1\n"
     ]
    }
   ],
   "source": [
    "R = bats.reduce(X, bats.F2()) # F2 is coefficient field\n",
    "\n",
    "for k in range(R.maxdim()):\n",
    "    print(\"dim H_{}: {}\".format(k, R.hdim(k)))"
   ]
  },
  {
   "cell_type": "markdown",
   "metadata": {},
   "source": [
    "The output of `bats.reduce` is a `ReducedChainComplex` which holds information used to compute homology.\n",
    "\n",
    "For `LightSimplicialComplex`, you need to provide an upper bound on the number of vertices and maximum simplex dimension."
   ]
  },
  {
   "cell_type": "code",
   "execution_count": 13,
   "metadata": {},
   "outputs": [
    {
     "data": {
      "text/plain": [
       "[[0], [1], [2], [3], [0, 1], [0, 2], [1, 2], [2, 3], [1, 3], [0, 1, 2]]"
      ]
     },
     "execution_count": 13,
     "metadata": {},
     "output_type": "execute_result"
    }
   ],
   "source": [
    "n = 4 # number of vertices\n",
    "d = 2 # max simplex dimension\n",
    "X = bats.LightSimplicialComplex(n, d)\n",
    "X.add_recursive([0,1,2])\n",
    "X.add_recursive([2,3])\n",
    "X.add([1,3])\n",
    "\n",
    "X.get_simplices()"
   ]
  },
  {
   "cell_type": "code",
   "execution_count": 14,
   "metadata": {},
   "outputs": [
    {
     "name": "stdout",
     "output_type": "stream",
     "text": [
      "dim H_0: 1\n",
      "dim H_1: 1\n"
     ]
    }
   ],
   "source": [
    "R = bats.reduce(X, bats.F2())\n",
    "\n",
    "for k in range(R.maxdim()):\n",
    "    print(\"dim H_{}: {}\".format(k, R.hdim(k)))"
   ]
  },
  {
   "cell_type": "markdown",
   "metadata": {},
   "source": [
    "## Persistent Homology\n",
    "\n",
    "You can add simplices to a filtration by providing a parameter at which they first appear."
   ]
  },
  {
   "cell_type": "code",
   "execution_count": 17,
   "metadata": {},
   "outputs": [
    {
     "data": {
      "text/plain": [
       "[[0], [1], [2], [3], [0, 1], [0, 2], [1, 2], [2, 3], [1, 3], [0, 1, 2]]"
      ]
     },
     "execution_count": 17,
     "metadata": {},
     "output_type": "execute_result"
    }
   ],
   "source": [
    "F = bats.FilteredSimplicialComplex()\n",
    "F.add_recursive(0.0, [0,1,2])\n",
    "F.add_recursive(1.0, [2, 3])\n",
    "F.add(2.0, [1,3])\n",
    "\n",
    "F.complex().get_simplices()"
   ]
  },
  {
   "cell_type": "markdown",
   "metadata": {},
   "source": [
    "again, we can use the `reduce` function, but now we get a `ReducedFilteredChainComplex`"
   ]
  },
  {
   "cell_type": "code",
   "execution_count": 20,
   "metadata": {},
   "outputs": [
    {
     "name": "stdout",
     "output_type": "stream",
     "text": [
      "0 : (0,inf) <0,-1>\n",
      "0 : (0,0) <1,0>\n",
      "0 : (0,0) <2,1>\n",
      "0 : (1,1) <3,3>\n",
      "1 : (0,0) <2,0>\n",
      "1 : (2,inf) <4,-1>\n"
     ]
    }
   ],
   "source": [
    "R = bats.reduce(F, bats.F2())\n",
    "\n",
    "for k in range(R.maxdim()):\n",
    "    for p in R.persistence_pairs(k):\n",
    "        print(p)"
   ]
  },
  {
   "cell_type": "markdown",
   "metadata": {},
   "source": [
    "The output of `R.persistence_pairs(k)` is a vector of `PersistencePairs` for k-dimensional persistent homology.  \n",
    "\n",
    "A `PersistencePair` includes 5 pieces of information:\n",
    "* The dimension of the homology class.\n",
    "* The birth and death parameters of the homology class.\n",
    "* The simplex indices responsible for birth and death."
   ]
  },
  {
   "cell_type": "code",
   "execution_count": 28,
   "metadata": {},
   "outputs": [
    {
     "name": "stdout",
     "output_type": "stream",
     "text": [
      "1 : (2,inf) <4,-1>\n",
      "1, 2.0, inf, 4, 18446744073709551615\n"
     ]
    }
   ],
   "source": [
    "p = R.persistence_pairs(1)[-1]\n",
    "print(p)\n",
    "print(p.dim(), p.birth(), p.death(), p.birth_ind(), p.death_ind(), sep=', ')"
   ]
  },
  {
   "cell_type": "markdown",
   "metadata": {},
   "source": [
    "infinite bars have a death index set to `2**64 - 1`"
   ]
  },
  {
   "cell_type": "markdown",
   "metadata": {},
   "source": [
    "## Maps\n",
    "\n",
    "BATS makes dealing with maps between topological spaces and associated chain maps\n",
    "and induced maps on homology easy.  The relevant class is a `CellularMap` which\n",
    "keeps track of what cells in one complex map to what cells in another.\n",
    "\n",
    "We'll just look at a wrapper for `CellularMap`, called `SimplcialMap` which can be used\n",
    "to extend a map on the vertex set of a `SimplicialComplex` to a map of simplices.\n",
    "\n",
    "First, we'll build identical simplicial complexes `X` and `Y` which are both cycle graphs\n",
    "on four vertices."
   ]
  },
  {
   "cell_type": "code",
   "execution_count": 30,
   "metadata": {},
   "outputs": [],
   "source": [
    "X = bats.SimplicialComplex()\n",
    "X.add_recursive([0,1])\n",
    "X.add_recursive([1,2])\n",
    "X.add_recursive([2,3])\n",
    "X.add_recursive([0,3])\n",
    "\n",
    "Y = X"
   ]
  },
  {
   "cell_type": "markdown",
   "metadata": {},
   "source": [
    "We then build a simplicial map from X to Y which is extended from a reflection of the vertices."
   ]
  },
  {
   "cell_type": "code",
   "execution_count": 31,
   "metadata": {},
   "outputs": [],
   "source": [
    "f0 = [2, 1, 0, 3]\n",
    "F = bats.SimplicialMap(X, Y, f0)"
   ]
  },
  {
   "cell_type": "markdown",
   "metadata": {},
   "source": [
    "The map is extended by sending vertex `i` in `X` to vertex\n",
    "`f0[i]` in `Y`.  Next, we can apply the chain functor.  We'll use\n",
    "F3 coefficients."
   ]
  },
  {
   "cell_type": "code",
   "execution_count": 32,
   "metadata": {},
   "outputs": [],
   "source": [
    "CX = bats.Chain(X, bats.F3())\n",
    "CY = bats.Chain(Y, bats.F3())\n",
    "CF = bats.Chain(F, bats.F3())"
   ]
  },
  {
   "cell_type": "markdown",
   "metadata": {},
   "source": [
    "Finally, we can compute homology of the chain complexes and the induced maps."
   ]
  },
  {
   "cell_type": "code",
   "execution_count": 41,
   "metadata": {},
   "outputs": [
    {
     "name": "stdout",
     "output_type": "stream",
     "text": [
      "induced map in dimension 0:\n",
      "[[1]]\n",
      "induced map in dimension 1:\n",
      "[[2]]\n"
     ]
    }
   ],
   "source": [
    "RX = bats.reduce(CX)\n",
    "RY = bats.reduce(CY)\n",
    "\n",
    "for k in range(RX.maxdim()+1):\n",
    "    HFk = bats.InducedMap(CF, RX, RY, k)\n",
    "    print(\"induced map in dimension {}:\".format(k))\n",
    "    print(HFk.tolist())"
   ]
  },
  {
   "cell_type": "markdown",
   "metadata": {},
   "source": [
    "The induced map in dimension 0 is the identity.  The induced map in dimension 1 is multiplication by `2 = -1 mod 3`"
   ]
  },
  {
   "cell_type": "markdown",
   "metadata": {},
   "source": [
    "## Zigzag Homology\n",
    "\n",
    "We'll now compute a simple zigzag barcode, using the above example.  We'll consider\n",
    "a diagram with two (identical) spaces, connected by a single edge which applies\n",
    "the reflection map in the above example."
   ]
  },
  {
   "cell_type": "code",
   "execution_count": 43,
   "metadata": {},
   "outputs": [],
   "source": [
    "D = bats.SimplicialComplexDiagram(2,1) # diagram with 2 nodes, 1 edge\n",
    "D.set_node(0, X)\n",
    "D.set_node(1, Y)\n",
    "D.set_edge(0, 0, 1, F) # edge 0: F maps from node 0 to node 1"
   ]
  },
  {
   "cell_type": "markdown",
   "metadata": {},
   "source": [
    "We can now apply the `Chain` and `Hom` functors to obtain a diagram of homology vector spaces and maps between them"
   ]
  },
  {
   "cell_type": "code",
   "execution_count": 47,
   "metadata": {},
   "outputs": [],
   "source": [
    "CD = bats.ChainFunctor(D, bats.F3())\n"
   ]
  },
  {
   "cell_type": "code",
   "execution_count": 51,
   "metadata": {},
   "outputs": [
    {
     "name": "stdout",
     "output_type": "stream",
     "text": [
      "1 : (0,1) <0,0>\n"
     ]
    }
   ],
   "source": [
    "HD = bats.Hom(CD, 1) # computes homology in dimension 1\n",
    "ps = bats.barcode(HD, 1) # extracts barcode\n",
    "for p in ps:\n",
    "    print(p)"
   ]
  },
  {
   "cell_type": "markdown",
   "metadata": {},
   "source": [
    "This indicates there is a 1-dimensional homology bar, which is born in the space\n",
    "with index 0 and survives until the space with index 1.  The `<0,0>` indicates which\n",
    "generators are associated with the homology class in the diagram."
   ]
  }
 ],
 "metadata": {
  "kernelspec": {
   "display_name": "Python [conda env:bats]",
   "language": "python",
   "name": "conda-env-bats-py"
  },
  "language_info": {
   "codemirror_mode": {
    "name": "ipython",
    "version": 3
   },
   "file_extension": ".py",
   "mimetype": "text/x-python",
   "name": "python",
   "nbconvert_exporter": "python",
   "pygments_lexer": "ipython3",
   "version": "3.7.10"
  }
 },
 "nbformat": 4,
 "nbformat_minor": 4
}
