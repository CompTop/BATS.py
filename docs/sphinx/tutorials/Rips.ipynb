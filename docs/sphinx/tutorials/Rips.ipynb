{
 "cells": [
  {
   "cell_type": "markdown",
   "id": "638f16fc",
   "metadata": {},
   "source": [
    "# Rips Complex Tutorial\n",
    "This is a quick Rips Filtration tutorial used to illustrate options provided in BATS.py."
   ]
  },
  {
   "cell_type": "code",
   "execution_count": 1,
   "id": "70d7ef0d",
   "metadata": {},
   "outputs": [],
   "source": [
    "import bats\n",
    "import numpy as np\n",
    "import matplotlib.pyplot as plt\n",
    "import scipy.spatial.distance as distance\n",
    "import bats\n",
    "import time"
   ]
  },
  {
   "cell_type": "code",
   "execution_count": 2,
   "id": "4311d1f3",
   "metadata": {},
   "outputs": [
    {
     "data": {
      "image/png": "[encoded data removed]",
      "text/plain": [
       "<Figure size 432x288 with 1 Axes>"
      ]
     },
     "metadata": {
      "needs_background": "light"
     },
     "output_type": "display_data"
    }
   ],
   "source": [
    "# first, generate a circle\n",
    "n = 100\n",
    "X = np.random.normal(size=(n,2))\n",
    "X = X / np.linalg.norm(X, axis=1).reshape(-1,1)\n",
    "X = X + np.random.normal(size=(n,2), scale = 0.1 )\n",
    "fig = plt.scatter(X[:,0], X[:,1])\n",
    "fig.axes.set_aspect('equal')\n",
    "plt.savefig('figures/RipsEx_data.png')"
   ]
  },
  {
   "cell_type": "markdown",
   "id": "92e7cce8",
   "metadata": {},
   "source": [
    "Rips filtrations are commonly used in conjunction with persistent homology to create features for finite dimensional metric spaces (point clouds). Given a metric space $(X, d)$, a Rips complex consists of simplices with a maximum pairwise distance between vertices is less than some threshold $r$:\n",
    "\n",
    "$$\n",
    "X_r = \\{(x_0,\\dots,x_k) \\mid x_i\\in X, d(x_i,x_j) \\le r\\}.\n",
    "$$\n",
    "\n",
    "A Rips filtration is a filtration of Rips complexes $X_r \\subseteq X_s$ if $r \\le s$."
   ]
  },
  {
   "cell_type": "code",
   "execution_count": 3,
   "id": "3f790555",
   "metadata": {},
   "outputs": [
    {
     "name": "stdout",
     "output_type": "stream",
     "text": [
      "time of compute persistent homology: 1.251744269 sec.\n"
     ]
    }
   ],
   "source": [
    "# compute pairwise distances\n",
    "D = distance.squareform(distance.pdist(X))\n",
    "\n",
    "# Rips complex for full metric space\n",
    "# ie., threshold r = infinity now\n",
    "F = bats.LightRipsFiltration(bats.Matrix(D), np.inf, 2)\n",
    "\n",
    "# compute with F2 coefficents\n",
    "t0 = time.monotonic()\n",
    "R = bats.reduce(F, bats.F2())\n",
    "t1 = time.monotonic()\n",
    "print(\"time of compute persistent homology: {} sec.\".format(t1-t0))"
   ]
  },
  {
   "cell_type": "markdown",
   "id": "73413c6c",
   "metadata": {},
   "source": [
    "Now you are able to see persistent diagrams."
   ]
  },
  {
   "cell_type": "code",
   "execution_count": 4,
   "id": "b61cc74e",
   "metadata": {},
   "outputs": [
    {
     "data": {
      "image/png": "[encoded data removed]",
      "text/plain": [
       "<Figure size 432x288 with 1 Axes>"
      ]
     },
     "metadata": {
      "needs_background": "light"
     },
     "output_type": "display_data"
    }
   ],
   "source": [
    "# find persistence pairs at each dimension\n",
    "ps = []\n",
    "for d in range(R.maxdim()):\n",
    "    ps.extend(R.persistence_pairs(d))\n",
    "\n",
    "# Draw persistent diagram\n",
    "# 'tmax' is the axis maixmum value\n",
    "fig, ax = bats.persistence_diagram(ps, tmax = 2.0)"
   ]
  },
  {
   "cell_type": "markdown",
   "id": "b5d99df1",
   "metadata": {},
   "source": [
    "## Efficient Computation \n",
    "The number of simplices in Rips filtrations quickly grows with the size of the data set, and much effort has gone into developing efficient algorithms for computing persistent homology of Rips filtrations. "
   ]
  },
  {
   "cell_type": "markdown",
   "id": "1583a6c6",
   "metadata": {},
   "source": [
    "### Construction optimization\n",
    "The first method that has been applied in several high-performance packages for Rips computations is to stop a filtration at the enclosing ***radius*** of the metric space, at which point the complex becomes contractible, which can reduce the total number of simplices in the filtration considerably without changing persistent homology."
   ]
  },
  {
   "cell_type": "code",
   "execution_count": 5,
   "id": "33150a27",
   "metadata": {},
   "outputs": [
    {
     "name": "stdout",
     "output_type": "stream",
     "text": [
      "enclosing radius = 1.9045502189036156\n",
      "enclosing radius = 1.9045502189036156\n"
     ]
    }
   ],
   "source": [
    "# Two ways to find Enclosing Radius\n",
    "r_enc = np.min(np.max(D, axis=0))\n",
    "print(\"enclosing radius = {}\".format(r_enc))\n",
    "\n",
    "r_enc = bats.enclosing_radius(bats.Matrix(D))\n",
    "print(\"enclosing radius = {}\".format(r_enc))"
   ]
  },
  {
   "cell_type": "code",
   "execution_count": 6,
   "id": "24473925",
   "metadata": {},
   "outputs": [
    {
     "name": "stdout",
     "output_type": "stream",
     "text": [
      "construction time: 0.02580976899999987 sec.\n",
      "reduction time: 0.45710929600000005 sec.\n"
     ]
    }
   ],
   "source": [
    "# Rips complex up to enclosing radius\n",
    "t0 = time.monotonic()\n",
    "F_enc = bats.LightRipsFiltration(bats.Matrix(D), r_enc, 2)\n",
    "t1 = time.monotonic()\n",
    "print(\"construction time: {} sec.\".format(t1-t0))\n",
    "\n",
    "# compute with F2 coefficents\n",
    "t0 = time.monotonic()\n",
    "R_enc = bats.reduce(F_enc, bats.F2())\n",
    "t1 = time.monotonic()\n",
    "print(\"reduction time: {} sec.\".format(t1-t0))"
   ]
  },
  {
   "cell_type": "markdown",
   "id": "88ea8d0b",
   "metadata": {},
   "source": [
    "You can see the obvious improvement with about 2x speedup."
   ]
  },
  {
   "cell_type": "markdown",
   "id": "320ed25a",
   "metadata": {},
   "source": [
    "### Algorithm optimization"
   ]
  },
  {
   "cell_type": "markdown",
   "id": "1fc7fe45",
   "metadata": {},
   "source": [
    "There are also many efficent algorithms provided in BATS.py:\n",
    "\n",
    "- [**Reduction/Compression**](https://arxiv.org/abs/1303.0477): two options without basis returned.\n",
    "\n",
    "- [**Cohomology**](https://arxiv.org/abs/1107.5665): faster on some filtration.\n",
    "\n",
    "- [**Update Persistence**](https://arxiv.org/abs/2108.05022): suitable when there are several similar datasets needed to be computed PH (e.g., optimization on persistence penalty).  \n",
    "\n",
    "- **Extra Reduction**: peform extra reduction to eliminate nonzeros even after pivot has been found\n",
    "\n",
    "- **Combination of the above options**"
   ]
  },
  {
   "cell_type": "code",
   "execution_count": 7,
   "id": "2bb68bc7",
   "metadata": {},
   "outputs": [],
   "source": [
    "def time_BATS_flags(X, flags=(bats.standard_reduction_flag(), bats.compute_basis_flag())):\n",
    "    \n",
    "    t0 = time.monotonic()\n",
    "    D = distance.squareform(distance.pdist(X))\n",
    "    r_enc = bats.enclosing_radius(bats.Matrix(D))\n",
    "    F_enc = bats.LightRipsFiltration(bats.Matrix(D), r_enc, 2)\n",
    "    R = bats.reduce(F_enc, bats.F2(), *flags)\n",
    "    t1 = time.monotonic()\n",
    "    print(\"compute PH needs: {} sec.\".format(t1 - t0))"
   ]
  },
  {
   "cell_type": "code",
   "execution_count": 8,
   "id": "198f3bf7",
   "metadata": {},
   "outputs": [
    {
     "name": "stdout",
     "output_type": "stream",
     "text": [
      "\n",
      "standard w/ basis:\n",
      "compute PH needs: 0.48769679099999985 sec.\n",
      "\n",
      "standard w/ no basis:\n",
      "compute PH needs: 0.20464790700000002 sec.\n",
      "\n",
      "standard w/ clearing:\n",
      "compute PH needs: 0.22068308400000003 sec.\n",
      "\n",
      "standard w/ compression:\n",
      "compute PH needs: 0.22058046700000045 sec.\n",
      "\n",
      "extra w/ basis:\n",
      "compute PH needs: 0.4361160309999992 sec.\n",
      "\n",
      "extra w/ no basis:\n",
      "compute PH needs: 0.14751104199999965 sec.\n",
      "\n",
      "extra w/ clearing:\n",
      "compute PH needs: 0.14784146399999987 sec.\n",
      "\n",
      "extra w/ compression:\n",
      "compute PH needs: 0.11028916699999947 sec.\n"
     ]
    }
   ],
   "source": [
    "flags = [\n",
    "    (bats.standard_reduction_flag(), bats.compute_basis_flag()),\n",
    "    (bats.standard_reduction_flag(),),\n",
    "    (bats.standard_reduction_flag(), bats.clearing_flag()),\n",
    "    (bats.standard_reduction_flag(), bats.compression_flag()),\n",
    "    (bats.extra_reduction_flag(), bats.compute_basis_flag()),\n",
    "    (bats.extra_reduction_flag(),),\n",
    "    (bats.extra_reduction_flag(), bats.clearing_flag()),\n",
    "    (bats.extra_reduction_flag(), bats.compression_flag()),\n",
    "]\n",
    "labels = [\n",
    "    \"standard w/ basis\",\n",
    "    \"standard w/ no basis\",\n",
    "    \"standard w/ clearing\",\n",
    "    \"standard w/ compression\",\n",
    "    \"extra w/ basis\",\n",
    "    \"extra w/ no basis\",\n",
    "    \"extra w/ clearing\",\n",
    "    \"extra w/ compression\"\n",
    "]\n",
    "\n",
    "for flag, label in zip(flags, labels):\n",
    "    print(\"\\n{}:\".format(label))\n",
    "    time_BATS_flags(X, flag)"
   ]
  },
  {
   "cell_type": "code",
   "execution_count": 9,
   "id": "00d8e902",
   "metadata": {},
   "outputs": [],
   "source": [
    "# add some noise to the original datasets \n",
    "# to create a similar datasets to show the performance of update persistence\n",
    "X2 = X + np.random.normal(size=(n,2), scale = 0.001)"
   ]
  },
  {
   "cell_type": "code",
   "execution_count": 10,
   "id": "375bd7fb",
   "metadata": {},
   "outputs": [
    {
     "name": "stdout",
     "output_type": "stream",
     "text": [
      "compute PH by updating persistenc needs: 0.1257570130000003 sec.\n"
     ]
    }
   ],
   "source": [
    "# PH computation on X1\n",
    "D = distance.squareform(distance.pdist(X))\n",
    "r_enc = bats.enclosing_radius(bats.Matrix(D))\n",
    "F_X = bats.LightRipsFiltration(bats.Matrix(D), r_enc, 2)\n",
    "R = bats.reduce(F_X, bats.F2())\n",
    "\n",
    "# PH computation on X2 by update persistence on X1\n",
    "t0 = time.monotonic()\n",
    "D2 = distance.squareform(distance.pdist(X2))\n",
    "r_enc2 = bats.enclosing_radius(bats.Matrix(D2))\n",
    "F_Y = bats.LightRipsFiltration(bats.Matrix(D2), r_enc2, 2) # generate a RipsFiltration\n",
    "UI = bats.UpdateInfoLightFiltration(F_X, F_Y) # find updating information\n",
    "R.update_filtration_general(UI)\n",
    "t1 = time.monotonic()\n",
    "print(\"compute PH by updating persistenc needs: {} sec.\".format(t1 - t0))"
   ]
  },
  {
   "cell_type": "markdown",
   "id": "0701314c",
   "metadata": {},
   "source": [
    "Advantanges of updating persistence over the other options:\n",
    "\n",
    "1. still keep the basis information;\n",
    "\n",
    "2. with a comparable speedup with other optimization algorithms."
   ]
  },
  {
   "cell_type": "code",
   "execution_count": null,
   "id": "2959a37e",
   "metadata": {},
   "outputs": [],
   "source": []
  }
 ],
 "metadata": {
  "kernelspec": {
   "display_name": "Python 3 (ipykernel)",
   "language": "python",
   "name": "python3"
  },
  "language_info": {
   "codemirror_mode": {
    "name": "ipython",
    "version": 3
   },
   "file_extension": ".py",
   "mimetype": "text/x-python",
   "name": "python",
   "nbconvert_exporter": "python",
   "pygments_lexer": "ipython3",
   "version": "3.9.6"
  }
 },
 "nbformat": 4,
 "nbformat_minor": 5
}
