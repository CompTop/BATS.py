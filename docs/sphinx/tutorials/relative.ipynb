{
 "cells": [
  {
   "cell_type": "markdown",
   "metadata": {},
   "source": [
    "# Relative Homology\n",
    "\n",
    "Relative homology is currently only supported for the `bats.SimplicialComplex` type."
   ]
  },
  {
   "cell_type": "code",
   "execution_count": 1,
   "metadata": {},
   "outputs": [],
   "source": [
    "import bats"
   ]
  },
  {
   "cell_type": "code",
   "execution_count": 2,
   "metadata": {},
   "outputs": [],
   "source": [
    "def print_cpx(X):\n",
    "    for k in range(X.maxdim() + 1):\n",
    "        print(\"{}: {} cells\".format(k, X.ncells(k)))"
   ]
  },
  {
   "cell_type": "code",
   "execution_count": 3,
   "metadata": {},
   "outputs": [
    {
     "name": "stdout",
     "output_type": "stream",
     "text": [
      "0: 3 cells\n",
      "1: 3 cells\n",
      "2: 1 cells\n"
     ]
    }
   ],
   "source": [
    "X = bats.SimplicialComplex()\n",
    "X.add_recursive((0,1,2))\n",
    "print_cpx(X)"
   ]
  },
  {
   "cell_type": "code",
   "execution_count": 4,
   "metadata": {},
   "outputs": [
    {
     "name": "stdout",
     "output_type": "stream",
     "text": [
      "0: 3 cells\n",
      "1: 3 cells\n"
     ]
    }
   ],
   "source": [
    "A = bats.SimplicialComplex()\n",
    "A.add_recursive((0,1))\n",
    "A.add_recursive((1,2))\n",
    "A.add_recursive((0,2))\n",
    "print_cpx(A)"
   ]
  },
  {
   "cell_type": "markdown",
   "metadata": {},
   "source": [
    "Build the relative chain complex $C_\\ast(X, A)$"
   ]
  },
  {
   "cell_type": "code",
   "execution_count": 5,
   "metadata": {},
   "outputs": [],
   "source": [
    "CXA = bats.Chain(X,A,bats.F2())"
   ]
  },
  {
   "cell_type": "code",
   "execution_count": 6,
   "metadata": {},
   "outputs": [],
   "source": [
    "RXA = bats.reduce(CXA)"
   ]
  },
  {
   "cell_type": "code",
   "execution_count": 7,
   "metadata": {},
   "outputs": [
    {
     "name": "stdout",
     "output_type": "stream",
     "text": [
      "dim H_0: 0\n",
      "dim H_1: 0\n",
      "dim H_2: 1\n"
     ]
    }
   ],
   "source": [
    "for k in range(RXA.maxdim()+1):\n",
    "    print(\"dim H_{}: {}\".format(k, RXA.hdim(k)))"
   ]
  },
  {
   "cell_type": "markdown",
   "metadata": {},
   "source": [
    "## Induced Maps\n",
    "\n",
    "If we have a map $f:X\\to Y$, $A\\subseteq X$ and $B\\subseteq Y$ with $f(A) \\subseteq B$, then we can compute an induced map on relative homology."
   ]
  },
  {
   "cell_type": "code",
   "execution_count": 8,
   "metadata": {},
   "outputs": [
    {
     "name": "stdout",
     "output_type": "stream",
     "text": [
      "0: 4 cells\n",
      "1: 5 cells\n",
      "2: 2 cells\n"
     ]
    }
   ],
   "source": [
    "Y = bats.SimplicialComplex()\n",
    "Y.add_recursive((0,1,2))\n",
    "Y.add_recursive((1,2,3))\n",
    "print_cpx(Y)"
   ]
  },
  {
   "cell_type": "code",
   "execution_count": 9,
   "metadata": {},
   "outputs": [
    {
     "name": "stdout",
     "output_type": "stream",
     "text": [
      "0: 4 cells\n",
      "1: 5 cells\n",
      "2: 1 cells\n"
     ]
    }
   ],
   "source": [
    "B = bats.SimplicialComplex()\n",
    "B.add_recursive((1,2,3))\n",
    "B.add_recursive((0,1))\n",
    "B.add_recursive((0,2))\n",
    "print_cpx(B)"
   ]
  },
  {
   "cell_type": "markdown",
   "metadata": {},
   "source": [
    "Let's now compute Homology"
   ]
  },
  {
   "cell_type": "code",
   "execution_count": 10,
   "metadata": {},
   "outputs": [],
   "source": [
    "CYB = bats.Chain(Y, B, bats.F2())\n",
    "RYB = bats.reduce(CYB)"
   ]
  },
  {
   "cell_type": "code",
   "execution_count": 11,
   "metadata": {},
   "outputs": [
    {
     "name": "stdout",
     "output_type": "stream",
     "text": [
      "dim H_0: 0\n",
      "dim H_1: 0\n",
      "dim H_2: 1\n"
     ]
    }
   ],
   "source": [
    "for k in range(RYB.maxdim()+1):\n",
    "    print(\"dim H_{}: {}\".format(k, RYB.hdim(k)))"
   ]
  },
  {
   "cell_type": "markdown",
   "metadata": {},
   "source": [
    "We'll use the inclusion map $X\\to Y$."
   ]
  },
  {
   "cell_type": "code",
   "execution_count": 12,
   "metadata": {},
   "outputs": [],
   "source": [
    "f = bats.SimplicialMap(X, Y)"
   ]
  },
  {
   "cell_type": "code",
   "execution_count": 13,
   "metadata": {},
   "outputs": [],
   "source": [
    "F = bats.Chain(f, X, A, Y, B, bats.F2())"
   ]
  },
  {
   "cell_type": "code",
   "execution_count": 22,
   "metadata": {},
   "outputs": [
    {
     "name": "stdout",
     "output_type": "stream",
     "text": [
      "induced map in dimension 0\n",
      "[]\n",
      "induced map in dimension 1\n",
      "[]\n",
      "induced map in dimension 2\n",
      "[[1]]\n"
     ]
    }
   ],
   "source": [
    "for k in range(3):\n",
    "    print(\"induced map in dimension {}\".format(k))\n",
    "    Ftil = bats.InducedMap(F, RXA, RYB,k)\n",
    "    print(Ftil.tolist())"
   ]
  },
  {
   "cell_type": "markdown",
   "metadata": {},
   "source": [
    "We see that the induced map is an isomorphism in all dimensions (the first two dimension have 0-dimensional homology)."
   ]
  },
  {
   "cell_type": "code",
   "execution_count": null,
   "metadata": {},
   "outputs": [],
   "source": []
  }
 ],
 "metadata": {
  "kernelspec": {
   "display_name": "Python [conda env:bats]",
   "language": "python",
   "name": "conda-env-bats-py"
  },
  "language_info": {
   "codemirror_mode": {
    "name": "ipython",
    "version": 3
   },
   "file_extension": ".py",
   "mimetype": "text/x-python",
   "name": "python",
   "nbconvert_exporter": "python",
   "pygments_lexer": "ipython3",
   "version": "3.7.10"
  }
 },
 "nbformat": 4,
 "nbformat_minor": 4
}
